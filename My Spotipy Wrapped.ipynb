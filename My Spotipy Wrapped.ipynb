{
 "cells": [
  {
   "cell_type": "code",
   "execution_count": 6,
   "id": "b7109322",
   "metadata": {},
   "outputs": [],
   "source": [
    "import requests\n",
    "import spotipy\n",
    "from spotipy.oauth2 import SpotifyOAuth\n",
    "import pandas as pd\n",
    "import time\n",
    "import datetime\n",
    "import gspread"
   ]
  },
  {
   "cell_type": "code",
   "execution_count": 7,
   "id": "5329de60",
   "metadata": {},
   "outputs": [],
   "source": [
    "SPOTIPY_CLIENT_ID='YOUR-CLIENT-ID'\n",
    "SPOTIPY_CLIENT_SECRET='YOUR-CLIENT-SECRET'\n",
    "SPOTIPY_REDIRECT_URI='http://127.0.0.1:9090'\n",
    "SCOPE = \"user-top-read\""
   ]
  },
  {
   "cell_type": "code",
   "execution_count": 8,
   "id": "ee1e6a84",
   "metadata": {},
   "outputs": [],
   "source": [
    "sp = spotipy.Spotify(auth_manager=SpotifyOAuth(client_id=SPOTIPY_CLIENT_ID, \n",
    "                                               client_secret=SPOTIPY_CLIENT_SECRET, \n",
    "                                               redirect_uri=SPOTIPY_REDIRECT_URI, \n",
    "                                               scope=SCOPE))"
   ]
  },
  {
   "cell_type": "code",
   "execution_count": 9,
   "id": "e8facbdc",
   "metadata": {},
   "outputs": [],
   "source": [
    "top_tracks_short = sp.current_user_top_tracks(limit=10, offset=0, time_range=\"short_term\")"
   ]
  },
  {
   "cell_type": "code",
   "execution_count": null,
   "id": "bf351ff1",
   "metadata": {},
   "outputs": [],
   "source": [
    "top_tracks_short"
   ]
  },
  {
   "cell_type": "code",
   "execution_count": 11,
   "id": "3be0171a",
   "metadata": {},
   "outputs": [],
   "source": [
    "top_tracks_short = sp.current_user_top_tracks(limit=20, offset=0, time_range=\"short_term\")"
   ]
  },
  {
   "cell_type": "code",
   "execution_count": 12,
   "id": "8f031aa0",
   "metadata": {},
   "outputs": [
    {
     "data": {
      "text/plain": [
       "dict"
      ]
     },
     "execution_count": 12,
     "metadata": {},
     "output_type": "execute_result"
    }
   ],
   "source": [
    "type(top_tracks_short)"
   ]
  },
  {
   "cell_type": "code",
   "execution_count": 13,
   "id": "a1afda6f",
   "metadata": {},
   "outputs": [],
   "source": [
    "def get_track_ids(time_frame):\n",
    "    track_ids = []\n",
    "    for song in time_frame['items']:\n",
    "        track_ids.append(song['id'])\n",
    "    return track_ids"
   ]
  },
  {
   "cell_type": "code",
   "execution_count": 14,
   "id": "c684ff17",
   "metadata": {},
   "outputs": [],
   "source": [
    "track_ids = get_track_ids(top_tracks_short)"
   ]
  },
  {
   "cell_type": "code",
   "execution_count": null,
   "id": "7eab193d",
   "metadata": {},
   "outputs": [],
   "source": [
    "track_ids"
   ]
  },
  {
   "cell_type": "code",
   "execution_count": 16,
   "id": "e57053ad",
   "metadata": {},
   "outputs": [],
   "source": [
    "track_id = '4iJyoBOLtHqaGxP12qzhQI'"
   ]
  },
  {
   "cell_type": "code",
   "execution_count": 17,
   "id": "2b800f2b",
   "metadata": {},
   "outputs": [],
   "source": [
    "def get_track_features(id):\n",
    "    meta = sp.track(id)\n",
    "    # meta\n",
    "    name = meta['name']\n",
    "    album = meta['album']['name']\n",
    "    artist = meta['album']['artists'][0]['name']\n",
    "    spotify_url = meta['external_urls']['spotify']\n",
    "    album_cover = meta['album']['images'][0]['url']\n",
    "    track_info = [name, album, artist, spotify_url, album_cover]\n",
    "    return track_info"
   ]
  },
  {
   "cell_type": "code",
   "execution_count": null,
   "id": "93256b8f",
   "metadata": {},
   "outputs": [],
   "source": [
    "get_track_features(track_id)"
   ]
  },
  {
   "cell_type": "code",
   "execution_count": 19,
   "id": "e02d7477",
   "metadata": {},
   "outputs": [],
   "source": [
    "# loop over track ids \n",
    "tracks = []\n",
    "for i in range(len(track_ids)):\n",
    "    time.sleep(.5)\n",
    "    track = get_track_features(track_ids[i])\n",
    "    tracks.append(track)"
   ]
  },
  {
   "cell_type": "code",
   "execution_count": null,
   "id": "5353588c",
   "metadata": {},
   "outputs": [],
   "source": [
    "tracks"
   ]
  },
  {
   "cell_type": "code",
   "execution_count": null,
   "id": "70e7f94b",
   "metadata": {},
   "outputs": [],
   "source": [
    "# create dataset\n",
    "df = pd.DataFrame(tracks, columns = ['name', 'album', 'artist', 'spotify_url', 'album_cover'])\n",
    "df.head(5)"
   ]
  },
  {
   "cell_type": "code",
   "execution_count": 20,
   "id": "60d8677f",
   "metadata": {},
   "outputs": [],
   "source": [
    "gc = gspread.service_account(filename='my-spotify-wrapped-test-ad510490b281.json')"
   ]
  },
  {
   "cell_type": "code",
   "execution_count": 23,
   "id": "de2470ef",
   "metadata": {},
   "outputs": [],
   "source": [
    "sh = gc.open(\"My Spotify Wrapped\")"
   ]
  },
  {
   "cell_type": "code",
   "execution_count": 22,
   "id": "28071a59",
   "metadata": {},
   "outputs": [],
   "source": [
    "worksheet = sh.worksheet(\"short_term\")"
   ]
  },
  {
   "cell_type": "code",
   "execution_count": null,
   "id": "eef854e9",
   "metadata": {},
   "outputs": [],
   "source": [
    "val = worksheet.acell('B5').value\n",
    "val"
   ]
  },
  {
   "cell_type": "code",
   "execution_count": null,
   "id": "103963ea",
   "metadata": {},
   "outputs": [],
   "source": [
    "# worksheet.update([dataframe.columns.values.tolist()] + dataframe.values.tolist())"
   ]
  },
  {
   "cell_type": "code",
   "execution_count": 24,
   "id": "4d05313e",
   "metadata": {},
   "outputs": [],
   "source": [
    "# insert into sheet\n",
    "def insert_to_gsheet(track_ids):\n",
    "    # loop over track ids \n",
    "    tracks = []\n",
    "    for i in range(len(track_ids)):\n",
    "        time.sleep(.5)\n",
    "        track = get_track_features(track_ids[i])\n",
    "        tracks.append(track)\n",
    "    # create dataframe\n",
    "    df = pd.DataFrame(tracks, columns = ['name', 'album', 'artist', 'spotify_url', 'album_cover'])\n",
    "    # insert into google sheet\n",
    "    gc = gspread.service_account(filename='my-spotify-wrapped-test-ad510490b281.json')\n",
    "    sh = gc.open('My Spotify Wrapped')\n",
    "    worksheet = sh.worksheet(f'{time_period}')\n",
    "    worksheet.update([df.columns.values.tolist()] + df.values.tolist())\n",
    "    print('Done')"
   ]
  },
  {
   "cell_type": "code",
   "execution_count": 25,
   "id": "11a7e7d9",
   "metadata": {},
   "outputs": [
    {
     "name": "stdout",
     "output_type": "stream",
     "text": [
      "Done\n",
      "Done\n",
      "Done\n"
     ]
    }
   ],
   "source": [
    "time_ranges = ['short_term', 'medium_term', 'long_term']\n",
    "for time_period in time_ranges:\n",
    "    top_tracks = sp.current_user_top_tracks(limit=20, offset=0, time_range=time_period)\n",
    "    track_ids = get_track_ids(top_tracks)\n",
    "    insert_to_gsheet(track_ids)"
   ]
  },
  {
   "cell_type": "code",
   "execution_count": null,
   "id": "ccc726f6",
   "metadata": {},
   "outputs": [],
   "source": []
  },
  {
   "cell_type": "code",
   "execution_count": null,
   "id": "bcfa79af",
   "metadata": {},
   "outputs": [],
   "source": []
  },
  {
   "cell_type": "code",
   "execution_count": null,
   "id": "baf4ac6b",
   "metadata": {},
   "outputs": [],
   "source": []
  },
  {
   "cell_type": "code",
   "execution_count": null,
   "id": "a9c4c3d1",
   "metadata": {},
   "outputs": [],
   "source": []
  },
  {
   "cell_type": "code",
   "execution_count": null,
   "id": "24db853c",
   "metadata": {},
   "outputs": [],
   "source": []
  },
  {
   "cell_type": "code",
   "execution_count": null,
   "id": "7e97102f",
   "metadata": {},
   "outputs": [],
   "source": []
  },
  {
   "cell_type": "code",
   "execution_count": null,
   "id": "ee878140",
   "metadata": {},
   "outputs": [],
   "source": []
  },
  {
   "cell_type": "code",
   "execution_count": null,
   "id": "094e3ba0",
   "metadata": {},
   "outputs": [],
   "source": []
  },
  {
   "cell_type": "code",
   "execution_count": null,
   "id": "e34e0ffc",
   "metadata": {},
   "outputs": [],
   "source": []
  }
 ],
 "metadata": {
  "kernelspec": {
   "display_name": "Python 3",
   "language": "python",
   "name": "python3"
  },
  "language_info": {
   "codemirror_mode": {
    "name": "ipython",
    "version": 3
   },
   "file_extension": ".py",
   "mimetype": "text/x-python",
   "name": "python",
   "nbconvert_exporter": "python",
   "pygments_lexer": "ipython3",
   "version": "3.9.2"
  }
 },
 "nbformat": 4,
 "nbformat_minor": 5
}
